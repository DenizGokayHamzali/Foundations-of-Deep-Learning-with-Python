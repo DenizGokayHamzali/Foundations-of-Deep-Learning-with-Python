{
  "cells": [
    {
      "cell_type": "code",
      "execution_count": null,
      "metadata": {
        "id": "VwWdtXiET6Hw"
      },
      "outputs": [],
      "source": [
        "import tensorflow as tf\n",
        "import numpy as np \n",
        "import matplotlib.pyplot as plt"
      ]
    },
    {
      "cell_type": "code",
      "execution_count": null,
      "metadata": {
        "colab": {
          "base_uri": "https://localhost:8080/"
        },
        "id": "QGiocPllT7oB",
        "outputId": "30542db8-928c-4bbc-85ee-8ad1170e284a"
      },
      "outputs": [
        {
          "name": "stdout",
          "output_type": "stream",
          "text": [
            "Downloading data from https://storage.googleapis.com/tensorflow/tf-keras-datasets/imdb.npz\n",
            "17464789/17464789 [==============================] - 2s 0us/step\n"
          ]
        }
      ],
      "source": [
        "# Downloading the IMDB dataset included in Keras.\n",
        "# We want to include the most frequently used 10000 words.\n",
        "(X_train, y_train), (X_test, y_test) = tf.keras.datasets.imdb.load_data(num_words=10000)"
      ]
    },
    {
      "cell_type": "code",
      "execution_count": null,
      "metadata": {
        "colab": {
          "base_uri": "https://localhost:8080/"
        },
        "id": "uMbugsLJT8kG",
        "outputId": "64353d8a-d7f7-4da9-94c4-a482bcbb8609"
      },
      "outputs": [
        {
          "name": "stdout",
          "output_type": "stream",
          "text": [
            "[1, 14, 22, 16, 43, 530, 973, 1622, 1385, 65, 458, 4468, 66, 3941, 4, 173, 36, 256, 5, 25, 100, 43, 838, 112, 50, 670, 2, 9, 35, 480, 284, 5, 150, 4, 172, 112, 167, 2, 336, 385, 39, 4, 172, 4536, 1111, 17, 546, 38, 13, 447, 4, 192, 50, 16, 6, 147, 2025, 19, 14, 22, 4, 1920, 4613, 469, 4, 22, 71, 87, 12, 16, 43, 530, 38, 76, 15, 13, 1247, 4, 22, 17, 515, 17, 12, 16, 626, 18, 2, 5, 62, 386, 12, 8, 316, 8, 106, 5, 4, 2223, 5244, 16, 480, 66, 3785, 33, 4, 130, 12, 16, 38, 619, 5, 25, 124, 51, 36, 135, 48, 25, 1415, 33, 6, 22, 12, 215, 28, 77, 52, 5, 14, 407, 16, 82, 2, 8, 4, 107, 117, 5952, 15, 256, 4, 2, 7, 3766, 5, 723, 36, 71, 43, 530, 476, 26, 400, 317, 46, 7, 4, 2, 1029, 13, 104, 88, 4, 381, 15, 297, 98, 32, 2071, 56, 26, 141, 6, 194, 7486, 18, 4, 226, 22, 21, 134, 476, 26, 480, 5, 144, 30, 5535, 18, 51, 36, 28, 224, 92, 25, 104, 4, 226, 65, 16, 38, 1334, 88, 12, 16, 283, 5, 16, 4472, 113, 103, 32, 15, 16, 5345, 19, 178, 32]\n"
          ]
        }
      ],
      "source": [
        "# Printing a sample, each list corresponds to a different movie review.\n",
        "print(X_train[0])"
      ]
    },
    {
      "cell_type": "code",
      "execution_count": null,
      "metadata": {
        "colab": {
          "base_uri": "https://localhost:8080/"
        },
        "id": "yPBib55DT9Zw",
        "outputId": "7e3c0e0e-69cf-48f8-8787-5da5ee8f591b"
      },
      "outputs": [
        {
          "name": "stdout",
          "output_type": "stream",
          "text": [
            "X_train: 25000\n",
            "X_test: 25000\n"
          ]
        }
      ],
      "source": [
        "# Printing the number of samples.\n",
        "print(f\"X_train: {len(X_train)}\")\n",
        "print(f\"X_test: {len(X_test)}\")"
      ]
    },
    {
      "cell_type": "code",
      "execution_count": null,
      "metadata": {
        "id": "ppZMfTKCT-u9"
      },
      "outputs": [],
      "source": [
        "# Concatenating X_train and X_test and assing it to a variable X.\n",
        "X = np.concatenate((X_train, X_test), axis=0)\n",
        "\n",
        "# Concatenating y_train and y_test and assing it to a variable y.\n",
        "y = np.concatenate((y_train, y_test), axis=0)"
      ]
    },
    {
      "cell_type": "code",
      "execution_count": null,
      "metadata": {
        "id": "nU0UJhE-UALj"
      },
      "outputs": [],
      "source": [
        "# Padding all reviews in the X dataset to the length.\n",
        "X = tf.keras.preprocessing.sequence.pad_sequences(X, maxlen=1024)"
      ]
    },
    {
      "cell_type": "code",
      "execution_count": null,
      "metadata": {
        "id": "flp1NgIQUBHY"
      },
      "outputs": [],
      "source": [
        "# Creating the training, validation, test datasets.\n",
        "X_train = X[:40000]\n",
        "y_train = y[:40000]\n",
        "\n",
        "X_val = X[40000:45000]\n",
        "y_val = y[40000:45000]\n",
        "\n",
        "X_test = X[45000:50000]\n",
        "y_test= y[45000:50000]"
      ]
    },
    {
      "cell_type": "code",
      "execution_count": null,
      "metadata": {
        "colab": {
          "base_uri": "https://localhost:8080/"
        },
        "id": "zOk_DoBnUChc",
        "outputId": "9151a0d8-27df-4485-fb0d-e80e83ecb982"
      },
      "outputs": [
        {
          "name": "stdout",
          "output_type": "stream",
          "text": [
            "X_train: 40000\n",
            "y_train: 40000\n",
            "X_val: 5000\n",
            "y_val: 5000\n",
            "X_test: 5000\n",
            "y_test: 5000\n"
          ]
        }
      ],
      "source": [
        "# Checking the datasets.\n",
        "print(f\"X_train: {len(X_train)}\")\n",
        "print(f\"y_train: {len(y_train)}\")\n",
        "\n",
        "print(f\"X_val: {len(X_val)}\")\n",
        "print(f\"y_val: {len(y_val)}\")\n",
        "\n",
        "print(f\"X_test: {len(X_test)}\")\n",
        "print(f\"y_test: {len(y_test)}\")"
      ]
    },
    {
      "cell_type": "code",
      "execution_count": null,
      "metadata": {
        "id": "lnt8TIyWUDwf"
      },
      "outputs": [],
      "source": [
        "# Creating a model object.\n",
        "model = tf.keras.Sequential()"
      ]
    },
    {
      "cell_type": "code",
      "execution_count": null,
      "metadata": {
        "id": "PGsyJtLmUE85"
      },
      "outputs": [],
      "source": [
        "# Adding an embedding layer and a dropout.\n",
        "# Word embedding refers to a numerical representation of words or text.\n",
        "model.add(tf.keras.layers.Embedding(input_dim=10000, output_dim=256))\n",
        "model.add(tf.keras.layers.Dropout(0.7))"
      ]
    },
    {
      "cell_type": "code",
      "execution_count": null,
      "metadata": {
        "id": "9lXaXNo2UGCo"
      },
      "outputs": [],
      "source": [
        "# Adding a LSTM layer with dropout.\n",
        "model.add(tf.keras.layers.LSTM(256))\n",
        "model.add(tf.keras.layers.Dropout(0.7))\n",
        "\n",
        "# Adding a Dense layer with dropout.\n",
        "model.add(tf.keras.layers.Dense(128, activation=\"relu\"))\n",
        "model.add(tf.keras.layers.Dropout(0.7))"
      ]
    },
    {
      "cell_type": "code",
      "execution_count": null,
      "metadata": {
        "id": "kjfKGtywUHIS"
      },
      "outputs": [],
      "source": [
        "# Adding the output layer.\n",
        "# We using sigmoid activation for binary-classification.\n",
        "model.add(tf.keras.layers.Dense(1, activation=\"sigmoid\"))"
      ]
    },
    {
      "cell_type": "code",
      "execution_count": null,
      "metadata": {
        "id": "T4KU3WDxUIDm"
      },
      "outputs": [],
      "source": [
        "# Compiling and optimizing part.\n",
        "model.compile(optimizer=\"adam\", loss=\"binary_crossentropy\", metrics=[\"accuracy\"])"
      ]
    },
    {
      "cell_type": "code",
      "execution_count": null,
      "metadata": {
        "colab": {
          "background_save": true,
          "base_uri": "https://localhost:8080/"
        },
        "id": "-6ROzfN5UJLM",
        "outputId": "cd84885e-a538-4b6b-fa1d-bb4ab859c18e"
      },
      "outputs": [
        {
          "name": "stdout",
          "output_type": "stream",
          "text": [
            "Epoch 1/5\n",
            "1250/1250 [==============================] - 200s 154ms/step - loss: 0.6758 - accuracy: 0.5650 - val_loss: 0.6930 - val_accuracy: 0.5066\n",
            "Epoch 2/5\n",
            "1250/1250 [==============================] - 105s 84ms/step - loss: 0.6461 - accuracy: 0.6075 - val_loss: 0.5161 - val_accuracy: 0.7642\n",
            "Epoch 3/5\n",
            "1250/1250 [==============================] - 91s 72ms/step - loss: 0.3594 - accuracy: 0.8609 - val_loss: 0.2726 - val_accuracy: 0.8924\n",
            "Epoch 4/5\n",
            "1250/1250 [==============================] - 90s 72ms/step - loss: 0.2554 - accuracy: 0.9073 - val_loss: 0.2471 - val_accuracy: 0.8982\n",
            "Epoch 5/5\n",
            "1250/1250 [==============================] - 87s 70ms/step - loss: 0.2099 - accuracy: 0.9245 - val_loss: 0.2361 - val_accuracy: 0.9058\n"
          ]
        }
      ],
      "source": [
        "# Training the model for 5 epochs.\n",
        "results = model.fit(X_train, y_train, epochs=5, validation_data=(X_val, y_val))"
      ]
    },
    {
      "cell_type": "code",
      "execution_count": null,
      "metadata": {
        "colab": {
          "background_save": true
        },
        "id": "40y4x-AjUJ7j",
        "outputId": "3f62ca60-55d8-4a5c-b364-c45329032c5f"
      },
      "outputs": [
        {
          "data": {
            "image/png": "[encoded data removed]",
            "text/plain": [
              "<Figure size 640x480 with 1 Axes>"
            ]
          },
          "metadata": {},
          "output_type": "display_data"
        }
      ],
      "source": [
        "# Visualizing the results.\n",
        "plt.plot(results.history[\"loss\"], label=\"Train\")\n",
        "plt.plot(results.history[\"val_loss\"], label=\"Validation\")\n",
        "\n",
        "plt.xlabel(\"Epoch\")\n",
        "plt.ylabel(\"Loss\")\n",
        "\n",
        "plt.legend()\n",
        "\n",
        "plt.show()"
      ]
    },
    {
      "cell_type": "code",
      "execution_count": null,
      "metadata": {
        "colab": {
          "background_save": true
        },
        "id": "Zohdh8KdULAG",
        "outputId": "1c0c46a6-3dc4-4747-a7a2-1fdf7a1f771f"
      },
      "outputs": [
        {
          "data": {
            "image/png": "[encoded data removed]",
            "text/plain": [
              "<Figure size 640x480 with 1 Axes>"
            ]
          },
          "metadata": {},
          "output_type": "display_data"
        }
      ],
      "source": [
        "plt.plot(results.history[\"accuracy\"], label=\"Train\")\n",
        "plt.plot(results.history[\"val_accuracy\"], label=\"Validation\")\n",
        "\n",
        "plt.xlabel(\"Epoch\")\n",
        "plt.ylabel(\"Accuracy\")\n",
        "\n",
        "plt.legend()\n",
        "\n",
        "plt.show()"
      ]
    },
    {
      "cell_type": "code",
      "execution_count": null,
      "metadata": {
        "colab": {
          "background_save": true
        },
        "id": "PLTGAwpLUMH3",
        "outputId": "a49cf107-b947-4c31-baa8-a4077d152465"
      },
      "outputs": [
        {
          "name": "stdout",
          "output_type": "stream",
          "text": [
            "157/157 [==============================] - 4s 26ms/step - loss: 0.2435 - accuracy: 0.9002\n"
          ]
        },
        {
          "data": {
            "text/plain": [
              "[0.24352185428142548, 0.9002000093460083]"
            ]
          },
          "execution_count": 17,
          "metadata": {},
          "output_type": "execute_result"
        }
      ],
      "source": [
        "# Evaluating the performance.\n",
        "model.evaluate(X_test, y_test)"
      ]
    },
    {
      "cell_type": "code",
      "execution_count": null,
      "metadata": {
        "colab": {
          "background_save": true
        },
        "id": "hy816z1uUNG4",
        "outputId": "a72fb5fc-99f3-4e74-bd77-e5ab7a16925d"
      },
      "outputs": [
        {
          "name": "stdout",
          "output_type": "stream",
          "text": [
            "1/1 [==============================] - 1s 550ms/step\n",
            "Label: 0 | Prediction: [[0.04236465]]\n"
          ]
        }
      ],
      "source": [
        "# Making prediction on the reshaped sample.\n",
        "prediction_result = model.predict(X_test[789].reshape(1, 1024))\n",
        "\n",
        "print(f\"Label: {y_test[789]} | Prediction: {prediction_result}\")\n",
        "\n",
        "# The output is smaller than 0.5, so we say it belongs to zero."
      ]
    }
  ],
  "metadata": {
    "accelerator": "GPU",
    "colab": {
      "provenance": []
    },
    "gpuClass": "standard",
    "kernelspec": {
      "display_name": "Python 3",
      "name": "python3"
    },
    "language_info": {
      "name": "python"
    }
  },
  "nbformat": 4,
  "nbformat_minor": 0
}