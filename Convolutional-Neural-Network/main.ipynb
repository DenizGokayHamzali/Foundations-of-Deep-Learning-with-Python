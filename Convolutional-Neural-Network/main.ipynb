{
  "nbformat": 4,
  "nbformat_minor": 0,
  "metadata": {
    "colab": {
      "provenance": [],
      "gpuType": "T4"
    },
    "kernelspec": {
      "name": "python3",
      "display_name": "Python 3"
    },
    "language_info": {
      "name": "python"
    },
    "accelerator": "GPU",
    "gpuClass": "standard"
  },
  "cells": [
    {
      "cell_type": "code",
      "execution_count": 13,
      "metadata": {
        "id": "RGgsHEW04Bv4"
      },
      "outputs": [],
      "source": [
        "import tensorflow as tf\n",
        "import numpy as np\n",
        "import matplotlib.pyplot as plt"
      ]
    },
    {
      "cell_type": "code",
      "source": [
        "(X_train, y_train), (X_test, y_test) = tf.keras.datasets.cifar10.load_data()"
      ],
      "metadata": {
        "id": "QNWDteRF4GHD"
      },
      "execution_count": 14,
      "outputs": []
    },
    {
      "cell_type": "code",
      "source": [
        "print(f'Lenght of the training dataset: {len(X_train)}')\n",
        "print(f'Lenght of the testing dataset: {len(X_test)}')"
      ],
      "metadata": {
        "colab": {
          "base_uri": "https://localhost:8080/"
        },
        "id": "IFwRXu0t4G3P",
        "outputId": "cb630093-7004-412c-bcb4-c8731b2c48a0"
      },
      "execution_count": 15,
      "outputs": [
        {
          "output_type": "stream",
          "name": "stdout",
          "text": [
            "Lenght of the training dataset: 50000\n",
            "Lenght of the testing dataset: 10000\n"
          ]
        }
      ]
    },
    {
      "cell_type": "code",
      "source": [
        "print(X_test[789])"
      ],
      "metadata": {
        "colab": {
          "base_uri": "https://localhost:8080/"
        },
        "id": "efCBJgVn4HkI",
        "outputId": "99ba9bbf-e33a-42da-9d9b-570f0b0647f8"
      },
      "execution_count": 16,
      "outputs": [
        {
          "output_type": "stream",
          "name": "stdout",
          "text": [
            "[[[100 111 134]\n",
            "  [ 98 110 132]\n",
            "  [ 98 109 131]\n",
            "  ...\n",
            "  [ 69  89 114]\n",
            "  [ 67  87 113]\n",
            "  [ 66  86 111]]\n",
            "\n",
            " [[ 98 109 131]\n",
            "  [ 95 106 128]\n",
            "  [ 94 105 127]\n",
            "  ...\n",
            "  [ 65  85 110]\n",
            "  [ 64  84 109]\n",
            "  [ 63  83 107]]\n",
            "\n",
            " [[ 94 105 127]\n",
            "  [ 92 103 125]\n",
            "  [ 92 103 125]\n",
            "  ...\n",
            "  [ 63  83 108]\n",
            "  [ 62  82 107]\n",
            "  [ 60  80 105]]\n",
            "\n",
            " ...\n",
            "\n",
            " [[ 13  27  40]\n",
            "  [ 12  26  39]\n",
            "  [ 12  26  39]\n",
            "  ...\n",
            "  [  4   6  21]\n",
            "  [  5   7  22]\n",
            "  [  4   7  22]]\n",
            "\n",
            " [[ 12  24  38]\n",
            "  [ 14  26  39]\n",
            "  [  9  21  34]\n",
            "  ...\n",
            "  [  3   5  19]\n",
            "  [  3   5  20]\n",
            "  [  5   7  22]]\n",
            "\n",
            " [[ 14  23  34]\n",
            "  [ 12  21  31]\n",
            "  [  9  19  29]\n",
            "  ...\n",
            "  [  4   4  17]\n",
            "  [  4   5  18]\n",
            "  [  5   5  18]]]\n"
          ]
        }
      ]
    },
    {
      "cell_type": "code",
      "source": [
        "# Converting the pixel values into an image.\n",
        "plt.imshow(X_test[789])\n",
        "plt.show\n",
        "\n",
        "print(X_test[789].shape)"
      ],
      "metadata": {
        "colab": {
          "base_uri": "https://localhost:8080/",
          "height": 447
        },
        "id": "NN0FSOuk4IhW",
        "outputId": "b92570b6-a619-4c83-9c1a-a63b38c29afe"
      },
      "execution_count": 17,
      "outputs": [
        {
          "output_type": "stream",
          "name": "stdout",
          "text": [
            "(32, 32, 3)\n"
          ]
        },
        {
          "output_type": "display_data",
          "data": {
            "text/plain": [
              "<Figure size 640x480 with 1 Axes>"
            ],
            "image/png": "[encoded data removed]"
          },
          "metadata": {}
        }
      ]
    },
    {
      "cell_type": "code",
      "source": [
        "# Adjusting our dataset.\n",
        "X_val = X_train[40000:]\n",
        "y_val = y_train[40000:]\n",
        "\n",
        "X_train = X_train[:40000]\n",
        "y_train = y_train[:40000]"
      ],
      "metadata": {
        "id": "Mz20WKUc4J2T"
      },
      "execution_count": 18,
      "outputs": []
    },
    {
      "cell_type": "code",
      "source": [
        "print(f'X_train: {len(X_train)}')\n",
        "print(f'X_val: {len(X_val)}')\n",
        "print(f'X_test: {len(X_test)}')"
      ],
      "metadata": {
        "colab": {
          "base_uri": "https://localhost:8080/"
        },
        "id": "YpJcGyKM4K6o",
        "outputId": "470e0514-449d-4e02-bd7e-4507c867f5f2"
      },
      "execution_count": 19,
      "outputs": [
        {
          "output_type": "stream",
          "name": "stdout",
          "text": [
            "X_train: 40000\n",
            "X_val: 10000\n",
            "X_test: 10000\n"
          ]
        }
      ]
    },
    {
      "cell_type": "code",
      "source": [
        "# Normalizin part | Dividing each dataset by 255.\n",
        "X_train = X_train/255\n",
        "X_val = X_val/255\n",
        "X_test = X_test/255"
      ],
      "metadata": {
        "id": "96G6p0wl4L7t"
      },
      "execution_count": 20,
      "outputs": []
    },
    {
      "cell_type": "code",
      "source": [
        "# Creating a model object.\n",
        "model = tf.keras.Sequential()"
      ],
      "metadata": {
        "id": "WLesPo1L4NK2"
      },
      "execution_count": 21,
      "outputs": []
    },
    {
      "cell_type": "code",
      "source": [
        "# Adding a convolution and max pooling layer.\n",
        "model.add(tf.keras.layers.Conv2D(32,\n",
        "                                 kernel_size=(3,3),\n",
        "                                 strides=(1,1),\n",
        "                                 padding=\"same\",\n",
        "                                 activation=\"relu\",\n",
        "                                 input_shape=(32,32,3)))\n",
        "\n",
        "model.add(tf.keras.layers.MaxPool2D((2,2)))"
      ],
      "metadata": {
        "id": "vCJx50no4N8e"
      },
      "execution_count": 22,
      "outputs": []
    },
    {
      "cell_type": "code",
      "source": [
        "# Adding more convolution and max pooling layers.\n",
        "model.add(tf.keras.layers.Conv2D(64,\n",
        "                                 kernel_size=(3,3),\n",
        "                                 strides=(1,1),\n",
        "                                 padding=\"same\",\n",
        "                                 activation=\"relu\"))\n",
        "\n",
        "model.add(tf.keras.layers.MaxPool2D((2,2)))\n",
        "\n",
        "model.add(tf.keras.layers.Conv2D(64,\n",
        "                                 kernel_size=(3,3),\n",
        "                                 strides=(1,1),\n",
        "                                 padding=\"same\",\n",
        "                                 activation=\"relu\"))"
      ],
      "metadata": {
        "id": "hhWnv-yq4O1s"
      },
      "execution_count": 23,
      "outputs": []
    },
    {
      "cell_type": "code",
      "source": [
        "# Flattening the convolution layer to connect the 2D convolution to 1D dense layers.\n",
        "model.add(tf.keras.layers.Flatten())"
      ],
      "metadata": {
        "id": "gRbMMZcs4P7E"
      },
      "execution_count": 24,
      "outputs": []
    },
    {
      "cell_type": "code",
      "source": [
        "# Adding the dense layers and dropout layers. (Classification layers)\n",
        "model.add(tf.keras.layers.Dense(64, activation=\"relu\"))\n",
        "model.add(tf.keras.layers.Dropout(0.5)) \n",
        "\n",
        "model.add(tf.keras.layers.Dense(64, activation=\"relu\"))\n",
        "model.add(tf.keras.layers.Dropout(0.5))"
      ],
      "metadata": {
        "id": "gHbQRemM4Q0e"
      },
      "execution_count": 25,
      "outputs": []
    },
    {
      "cell_type": "code",
      "source": [
        "# Adding the output layer.\n",
        "model.add(tf.keras.layers.Dense(10, activation=\"softmax\"))"
      ],
      "metadata": {
        "id": "2rtq0EQk4SGo"
      },
      "execution_count": 26,
      "outputs": []
    },
    {
      "cell_type": "code",
      "source": [
        "# Compiling the model.\n",
        "model.compile(optimizer=\"adam\",\n",
        "              loss=\"sparse_categorical_crossentropy\",\n",
        "              metrics=[\"accuracy\"])"
      ],
      "metadata": {
        "id": "h8kbEz824TQk"
      },
      "execution_count": 27,
      "outputs": []
    },
    {
      "cell_type": "code",
      "source": [
        "# Training the model for 50 epochs with batch size of 128\n",
        "\n",
        "results = model.fit(X_train, y_train,\n",
        "                    batch_size=128,\n",
        "                    epochs=50,\n",
        "                    validation_data=(X_val, y_val))"
      ],
      "metadata": {
        "colab": {
          "base_uri": "https://localhost:8080/"
        },
        "id": "4wcMFJnf4VIF",
        "outputId": "d55b0206-cc76-4f02-838f-2e9deac2adbb"
      },
      "execution_count": 28,
      "outputs": [
        {
          "output_type": "stream",
          "name": "stdout",
          "text": [
            "Epoch 1/50\n",
            "313/313 [==============================] - 13s 10ms/step - loss: 2.0002 - accuracy: 0.2333 - val_loss: 1.6487 - val_accuracy: 0.4199\n",
            "Epoch 2/50\n",
            "313/313 [==============================] - 2s 7ms/step - loss: 1.6898 - accuracy: 0.3579 - val_loss: 1.4322 - val_accuracy: 0.4861\n",
            "Epoch 3/50\n",
            "313/313 [==============================] - 2s 7ms/step - loss: 1.5284 - accuracy: 0.4265 - val_loss: 1.2920 - val_accuracy: 0.5448\n",
            "Epoch 4/50\n",
            "313/313 [==============================] - 2s 7ms/step - loss: 1.4200 - accuracy: 0.4782 - val_loss: 1.1794 - val_accuracy: 0.5921\n",
            "Epoch 5/50\n",
            "313/313 [==============================] - 2s 7ms/step - loss: 1.3349 - accuracy: 0.5164 - val_loss: 1.0961 - val_accuracy: 0.6185\n",
            "Epoch 6/50\n",
            "313/313 [==============================] - 3s 8ms/step - loss: 1.2794 - accuracy: 0.5376 - val_loss: 1.0878 - val_accuracy: 0.6317\n",
            "Epoch 7/50\n",
            "313/313 [==============================] - 2s 7ms/step - loss: 1.2217 - accuracy: 0.5613 - val_loss: 1.0217 - val_accuracy: 0.6516\n",
            "Epoch 8/50\n",
            "313/313 [==============================] - 2s 7ms/step - loss: 1.1712 - accuracy: 0.5790 - val_loss: 1.0607 - val_accuracy: 0.6297\n",
            "Epoch 9/50\n",
            "313/313 [==============================] - 2s 7ms/step - loss: 1.1372 - accuracy: 0.5924 - val_loss: 1.0461 - val_accuracy: 0.6464\n",
            "Epoch 10/50\n",
            "313/313 [==============================] - 2s 7ms/step - loss: 1.0965 - accuracy: 0.6096 - val_loss: 0.9533 - val_accuracy: 0.6726\n",
            "Epoch 11/50\n",
            "313/313 [==============================] - 2s 8ms/step - loss: 1.0722 - accuracy: 0.6168 - val_loss: 0.9450 - val_accuracy: 0.6794\n",
            "Epoch 12/50\n",
            "313/313 [==============================] - 3s 10ms/step - loss: 1.0384 - accuracy: 0.6309 - val_loss: 0.8961 - val_accuracy: 0.6977\n",
            "Epoch 13/50\n",
            "313/313 [==============================] - 2s 7ms/step - loss: 1.0118 - accuracy: 0.6370 - val_loss: 0.8817 - val_accuracy: 0.6990\n",
            "Epoch 14/50\n",
            "313/313 [==============================] - 2s 7ms/step - loss: 0.9784 - accuracy: 0.6485 - val_loss: 0.8957 - val_accuracy: 0.6994\n",
            "Epoch 15/50\n",
            "313/313 [==============================] - 2s 7ms/step - loss: 0.9660 - accuracy: 0.6516 - val_loss: 0.8813 - val_accuracy: 0.7074\n",
            "Epoch 16/50\n",
            "313/313 [==============================] - 2s 7ms/step - loss: 0.9332 - accuracy: 0.6617 - val_loss: 0.8826 - val_accuracy: 0.6990\n",
            "Epoch 17/50\n",
            "313/313 [==============================] - 2s 8ms/step - loss: 0.9226 - accuracy: 0.6668 - val_loss: 0.9162 - val_accuracy: 0.6967\n",
            "Epoch 18/50\n",
            "313/313 [==============================] - 2s 7ms/step - loss: 0.8974 - accuracy: 0.6788 - val_loss: 0.8843 - val_accuracy: 0.7084\n",
            "Epoch 19/50\n",
            "313/313 [==============================] - 2s 8ms/step - loss: 0.8764 - accuracy: 0.6852 - val_loss: 0.8831 - val_accuracy: 0.7068\n",
            "Epoch 20/50\n",
            "313/313 [==============================] - 2s 7ms/step - loss: 0.8578 - accuracy: 0.6907 - val_loss: 0.9021 - val_accuracy: 0.7079\n",
            "Epoch 21/50\n",
            "313/313 [==============================] - 2s 7ms/step - loss: 0.8339 - accuracy: 0.6953 - val_loss: 0.9045 - val_accuracy: 0.7046\n",
            "Epoch 22/50\n",
            "313/313 [==============================] - 3s 8ms/step - loss: 0.8097 - accuracy: 0.7054 - val_loss: 0.9032 - val_accuracy: 0.7091\n",
            "Epoch 23/50\n",
            "313/313 [==============================] - 2s 7ms/step - loss: 0.7907 - accuracy: 0.7136 - val_loss: 0.8645 - val_accuracy: 0.7224\n",
            "Epoch 24/50\n",
            "313/313 [==============================] - 2s 7ms/step - loss: 0.7834 - accuracy: 0.7161 - val_loss: 0.8860 - val_accuracy: 0.7221\n",
            "Epoch 25/50\n",
            "313/313 [==============================] - 2s 7ms/step - loss: 0.7596 - accuracy: 0.7264 - val_loss: 0.8874 - val_accuracy: 0.7193\n",
            "Epoch 26/50\n",
            "313/313 [==============================] - 2s 7ms/step - loss: 0.7511 - accuracy: 0.7275 - val_loss: 0.8666 - val_accuracy: 0.7258\n",
            "Epoch 27/50\n",
            "313/313 [==============================] - 2s 7ms/step - loss: 0.7476 - accuracy: 0.7293 - val_loss: 0.9177 - val_accuracy: 0.7072\n",
            "Epoch 28/50\n",
            "313/313 [==============================] - 2s 8ms/step - loss: 0.7356 - accuracy: 0.7316 - val_loss: 0.9085 - val_accuracy: 0.7147\n",
            "Epoch 29/50\n",
            "313/313 [==============================] - 2s 7ms/step - loss: 0.7113 - accuracy: 0.7425 - val_loss: 0.8915 - val_accuracy: 0.7204\n",
            "Epoch 30/50\n",
            "313/313 [==============================] - 2s 7ms/step - loss: 0.6960 - accuracy: 0.7465 - val_loss: 0.9087 - val_accuracy: 0.7190\n",
            "Epoch 31/50\n",
            "313/313 [==============================] - 2s 7ms/step - loss: 0.7024 - accuracy: 0.7445 - val_loss: 0.9304 - val_accuracy: 0.7109\n",
            "Epoch 32/50\n",
            "313/313 [==============================] - 2s 8ms/step - loss: 0.6876 - accuracy: 0.7492 - val_loss: 0.9290 - val_accuracy: 0.7191\n",
            "Epoch 33/50\n",
            "313/313 [==============================] - 4s 12ms/step - loss: 0.6746 - accuracy: 0.7531 - val_loss: 0.9234 - val_accuracy: 0.7205\n",
            "Epoch 34/50\n",
            "313/313 [==============================] - 2s 7ms/step - loss: 0.6580 - accuracy: 0.7600 - val_loss: 0.9651 - val_accuracy: 0.7123\n",
            "Epoch 35/50\n",
            "313/313 [==============================] - 2s 7ms/step - loss: 0.6567 - accuracy: 0.7573 - val_loss: 0.9948 - val_accuracy: 0.7159\n",
            "Epoch 36/50\n",
            "313/313 [==============================] - 2s 7ms/step - loss: 0.6371 - accuracy: 0.7640 - val_loss: 0.9593 - val_accuracy: 0.7182\n",
            "Epoch 37/50\n",
            "313/313 [==============================] - 2s 7ms/step - loss: 0.6476 - accuracy: 0.7616 - val_loss: 0.9766 - val_accuracy: 0.7265\n",
            "Epoch 38/50\n",
            "313/313 [==============================] - 2s 8ms/step - loss: 0.6423 - accuracy: 0.7664 - val_loss: 0.9549 - val_accuracy: 0.7144\n",
            "Epoch 39/50\n",
            "313/313 [==============================] - 2s 8ms/step - loss: 0.6140 - accuracy: 0.7745 - val_loss: 1.0018 - val_accuracy: 0.7148\n",
            "Epoch 40/50\n",
            "313/313 [==============================] - 2s 7ms/step - loss: 0.6163 - accuracy: 0.7751 - val_loss: 1.0504 - val_accuracy: 0.7142\n",
            "Epoch 41/50\n",
            "313/313 [==============================] - 2s 7ms/step - loss: 0.6051 - accuracy: 0.7778 - val_loss: 0.9934 - val_accuracy: 0.7253\n",
            "Epoch 42/50\n",
            "313/313 [==============================] - 2s 7ms/step - loss: 0.5969 - accuracy: 0.7811 - val_loss: 0.9872 - val_accuracy: 0.7242\n",
            "Epoch 43/50\n",
            "313/313 [==============================] - 2s 7ms/step - loss: 0.5932 - accuracy: 0.7819 - val_loss: 1.0234 - val_accuracy: 0.7249\n",
            "Epoch 44/50\n",
            "313/313 [==============================] - 3s 8ms/step - loss: 0.5811 - accuracy: 0.7854 - val_loss: 1.0498 - val_accuracy: 0.7162\n",
            "Epoch 45/50\n",
            "313/313 [==============================] - 2s 7ms/step - loss: 0.5780 - accuracy: 0.7885 - val_loss: 1.0502 - val_accuracy: 0.7254\n",
            "Epoch 46/50\n",
            "313/313 [==============================] - 2s 7ms/step - loss: 0.5780 - accuracy: 0.7891 - val_loss: 1.1643 - val_accuracy: 0.7075\n",
            "Epoch 47/50\n",
            "313/313 [==============================] - 2s 7ms/step - loss: 0.5725 - accuracy: 0.7908 - val_loss: 1.0397 - val_accuracy: 0.7259\n",
            "Epoch 48/50\n",
            "313/313 [==============================] - 2s 7ms/step - loss: 0.5576 - accuracy: 0.7954 - val_loss: 1.1084 - val_accuracy: 0.7252\n",
            "Epoch 49/50\n",
            "313/313 [==============================] - 2s 8ms/step - loss: 0.5676 - accuracy: 0.7935 - val_loss: 1.0663 - val_accuracy: 0.7223\n",
            "Epoch 50/50\n",
            "313/313 [==============================] - 2s 7ms/step - loss: 0.5461 - accuracy: 0.8009 - val_loss: 1.0874 - val_accuracy: 0.7242\n"
          ]
        }
      ]
    },
    {
      "cell_type": "code",
      "source": [
        "# Visualizing the results.\n",
        "plt.plot(results.history[\"loss\"], label=\"loss\")\n",
        "plt.plot(results.history[\"val_loss\"], label=\"val_loss\")\n",
        "\n",
        "plt.xlabel(\"Epoch\")\n",
        "plt.ylabel(\"Loss\")\n",
        "\n",
        "plt.legend()\n",
        "\n",
        "plt.show()\n"
      ],
      "metadata": {
        "colab": {
          "base_uri": "https://localhost:8080/",
          "height": 449
        },
        "id": "gNQOXRwW4V6S",
        "outputId": "3199e05c-01e8-496a-cdf6-fb5010870a37"
      },
      "execution_count": 29,
      "outputs": [
        {
          "output_type": "display_data",
          "data": {
            "text/plain": [
              "<Figure size 640x480 with 1 Axes>"
            ],
            "image/png": "[encoded data removed]"
          },
          "metadata": {}
        }
      ]
    },
    {
      "cell_type": "code",
      "source": [
        "plt.plot(results.history[\"accuracy\"], label=\"accuracy\")\n",
        "plt.plot(results.history[\"val_accuracy\"], label=\"val_accuracy\")\n",
        "\n",
        "plt.xlabel(\"Epoch\")\n",
        "plt.ylabel(\"Accuracy\")\n",
        "\n",
        "plt.legend()\n",
        "\n",
        "plt.show()"
      ],
      "metadata": {
        "colab": {
          "base_uri": "https://localhost:8080/",
          "height": 449
        },
        "id": "s7YhKIqE4XB8",
        "outputId": "c1dfefb5-7e7b-4548-a7ec-54d5e776fca4"
      },
      "execution_count": 30,
      "outputs": [
        {
          "output_type": "display_data",
          "data": {
            "text/plain": [
              "<Figure size 640x480 with 1 Axes>"
            ],
            "image/png": "[encoded data removed]"
          },
          "metadata": {}
        }
      ]
    },
    {
      "cell_type": "code",
      "source": [
        "# Evaluating the performance.\n",
        "model.evaluate(X_test, y_test)"
      ],
      "metadata": {
        "colab": {
          "base_uri": "https://localhost:8080/"
        },
        "id": "6U3tKw2f4X3j",
        "outputId": "5ffb5ae7-0401-4cc8-da8c-b3cd5e0234b7"
      },
      "execution_count": 31,
      "outputs": [
        {
          "output_type": "stream",
          "name": "stdout",
          "text": [
            "313/313 [==============================] - 1s 3ms/step - loss: 1.1427 - accuracy: 0.7115\n"
          ]
        },
        {
          "output_type": "execute_result",
          "data": {
            "text/plain": [
              "[1.142651915550232, 0.7114999890327454]"
            ]
          },
          "metadata": {},
          "execution_count": 31
        }
      ]
    },
    {
      "cell_type": "code",
      "source": [
        "# Making prediction on the reshaped sample.\n",
        "prediction_result = model.predict(X_test[789].reshape(1,32,32,3))\n",
        "prediction_result"
      ],
      "metadata": {
        "colab": {
          "base_uri": "https://localhost:8080/"
        },
        "id": "bXRTIleo4Y2C",
        "outputId": "2bb9f505-d0c3-410c-c91e-1d6f80a8db07"
      },
      "execution_count": 32,
      "outputs": [
        {
          "output_type": "stream",
          "name": "stdout",
          "text": [
            "1/1 [==============================] - 0s 181ms/step\n"
          ]
        },
        {
          "output_type": "execute_result",
          "data": {
            "text/plain": [
              "array([[1.06975725e-02, 1.71725523e-09, 8.43310075e-11, 5.71609004e-14,\n",
              "        3.83741783e-18, 1.13556008e-17, 2.53107865e-13, 8.90113951e-21,\n",
              "        9.89302456e-01, 1.42379575e-09]], dtype=float32)"
            ]
          },
          "metadata": {},
          "execution_count": 32
        }
      ]
    },
    {
      "cell_type": "code",
      "source": [
        "# Finding the predicted class.\n",
        "predicted_class = prediction_result.argmax()\n",
        "\n",
        "# Finding the prediction probability.\n",
        "predicted_probability = prediction_result.max()"
      ],
      "metadata": {
        "id": "IezxIKol4bnW"
      },
      "execution_count": 33,
      "outputs": []
    },
    {
      "cell_type": "code",
      "source": [
        "# Printing the results.\n",
        "print(f'This image belongs to class {predicted_class} with {predicted_probability}')"
      ],
      "metadata": {
        "colab": {
          "base_uri": "https://localhost:8080/"
        },
        "id": "Jscs9Vbu4cyG",
        "outputId": "03cebb0a-fe8c-4c93-d53c-507f005f9aa7"
      },
      "execution_count": 34,
      "outputs": [
        {
          "output_type": "stream",
          "name": "stdout",
          "text": [
            "This image belongs to class 8 with 0.9893024563789368\n"
          ]
        }
      ]
    }
  ]
}